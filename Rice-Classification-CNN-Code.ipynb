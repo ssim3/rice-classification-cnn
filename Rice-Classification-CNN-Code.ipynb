{
 "cells": [
  {
   "attachments": {},
   "cell_type": "markdown",
   "id": "2552d0e1",
   "metadata": {},
   "source": [
    "<a id=\"header\"></a>\n",
    "<center><p style=\"background:#DFDFDF; font-family:Courier; font-weight:bold; font-size:200%; color:black; text-align:center; width:70%; padding:30px\">Rice Classification with CNNs</p></center>"
   ]
  },
  {
   "cell_type": "markdown",
   "id": "7ac5ee16",
   "metadata": {},
   "source": []
  },
  {
   "cell_type": "markdown",
   "id": "e67570c0",
   "metadata": {},
   "source": [
    "<a id=\"import\"></a>\n",
    "<center><p style=\"background:#DFDFDF url('pylogo.jpg') no-repeat; font-family:Courier; font-size:200%; color:black; text-align:center; width:80%; padding:30px\">Importing Libraries</p></center>"
   ]
  },
  {
   "cell_type": "code",
   "execution_count": 8,
   "id": "0c3ff055",
   "metadata": {},
   "outputs": [],
   "source": [
    "# Linear Algebra\n",
    "import numpy as np\n",
    "\n",
    "# Model Building + Training\n",
    "import tensorflow as tf\n",
    "\n",
    "# Clearing Memory\n",
    "from keras.backend import set_session\n",
    "from keras.backend import clear_session\n",
    "from keras.backend import get_session\n",
    "import gc\n",
    "\n",
    "# Operating system\n",
    "import os"
   ]
  },
  {
   "cell_type": "code",
   "execution_count": 2,
   "id": "8c7d8edd",
   "metadata": {},
   "outputs": [],
   "source": [
    "# Reset Keras Session\n",
    "def reset_keras():\n",
    "    sess = get_session()\n",
    "    clear_session()\n",
    "    sess.close()\n",
    "    sess = get_session()\n",
    "\n",
    "    try:\n",
    "        del classifier # this is from global space - change this as you need\n",
    "    except:\n",
    "        pass\n",
    "\n",
    "    print(gc.collect()) # if it does something you should see a number as output\n",
    "\n",
    "    # use the same config as you used to create the session\n",
    "    config = tf.compat.v1.ConfigProto()\n",
    "    config.gpu_options.per_process_gpu_memory_fraction = 1\n",
    "    config.gpu_options.visible_device_list = \"0\"\n",
    "    set_session(tf.compat.v1.Session(config=config))"
   ]
  },
  {
   "cell_type": "markdown",
   "id": "be0db1aa",
   "metadata": {},
   "source": [
    "<a id=\"import\"></a>\n",
    "<center><p style=\"background:#DFDFDF url('pylogo.jpg') no-repeat; font-family:Courier; font-size:200%; color:black; text-align:center; width:80%; padding:30px\">Train-Val-Test Split</p></center>"
   ]
  },
  {
   "cell_type": "markdown",
   "id": "eea7520a",
   "metadata": {},
   "source": [
    "The split-folders library split folders with files (e.g. images) into train, validation and test (dataset) folders from this format: \n",
    "<pre>\n",
    "\n",
    "input/\n",
    "    class1/\n",
    "        img1.jpg\n",
    "        img2.jpg\n",
    "        ...\n",
    "    class2/\n",
    "        imgWhatever.jpg\n",
    "        ...\n",
    "    ...\n",
    "\n",
    "</pre>\n",
    "\n",
    "Into this format:\n",
    "\n",
    "<pre>\n",
    "\n",
    "output/\n",
    "    train/\n",
    "        class1/\n",
    "            img1.jpg\n",
    "            ...\n",
    "        class2/\n",
    "            imga.jpg\n",
    "            ...\n",
    "    val/\n",
    "        class1/\n",
    "            img2.jpg\n",
    "            ...\n",
    "        class2/\n",
    "            imgb.jpg\n",
    "            ...\n",
    "    test/\n",
    "        class1/\n",
    "            img3.jpg\n",
    "            ...\n",
    "        class2/\n",
    "            imgc.jpg\n",
    "            ...\n",
    "\n",
    "</pre>"
   ]
  },
  {
   "cell_type": "code",
   "execution_count": 3,
   "id": "3fcd1e8f",
   "metadata": {},
   "outputs": [],
   "source": [
    "# Adjust base directory according to your file path\n",
    "base_dir = \"Rice_Image_Dataset\\\\\""
   ]
  },
  {
   "cell_type": "code",
   "execution_count": 4,
   "id": "87c73bdd",
   "metadata": {},
   "outputs": [
    {
     "name": "stdout",
     "output_type": "stream",
     "text": [
      "Collecting split-folders\n",
      "  Downloading split_folders-0.5.1-py3-none-any.whl (8.4 kB)\n",
      "Installing collected packages: split-folders\n",
      "Successfully installed split-folders-0.5.1\n"
     ]
    }
   ],
   "source": [
    "!pip install split-folders"
   ]
  },
  {
   "cell_type": "code",
   "execution_count": 5,
   "id": "960885c1",
   "metadata": {},
   "outputs": [],
   "source": [
    "import splitfolders\n",
    "\n",
    "# Splits all images into Train, Test Validation\n",
    "splitfolders.ratio(base_dir, output=\"output\",seed=1337, ratio=(.8, .1, .1), group_prefix=None, move=False)"
   ]
  },
  {
   "cell_type": "code",
   "execution_count": 9,
   "id": "d4aa4823",
   "metadata": {},
   "outputs": [
    {
     "name": "stdout",
     "output_type": "stream",
     "text": [
      "Train directory:  output\\train\n",
      "Validation directory:  output\\val\n",
      "Test directory:  output\\test\n"
     ]
    }
   ],
   "source": [
    "output_dir = \"output\\\\\"\n",
    "\n",
    "# Setting the directories for our Train, val and test folders\n",
    "train_dir = os.path.join(output_dir, \"train\")\n",
    "print(\"Train directory: \", train_dir)\n",
    "\n",
    "val_dir = os.path.join(output_dir, \"val\")\n",
    "print(\"Validation directory: \", val_dir)\n",
    "\n",
    "test_dir = os.path.join(output_dir, \"test\")\n",
    "print(\"Test directory: \", test_dir)"
   ]
  },
  {
   "cell_type": "markdown",
   "id": "13692fd9",
   "metadata": {},
   "source": [
    "<a id=\"import\"></a>\n",
    "<center><p style=\"background:#DFDFDF url('pylogo.jpg') no-repeat; font-family:Courier; font-size:200%; color:black; text-align:center; width:80%; padding:30px\">Understanding our Dataset</p></center>"
   ]
  },
  {
   "cell_type": "code",
   "execution_count": null,
   "id": "17d5064c",
   "metadata": {},
   "outputs": [],
   "source": []
  }
 ],
 "metadata": {
  "kernelspec": {
   "display_name": "Python 3 (ipykernel)",
   "language": "python",
   "name": "python3"
  },
  "language_info": {
   "codemirror_mode": {
    "name": "ipython",
    "version": 3
   },
   "file_extension": ".py",
   "mimetype": "text/x-python",
   "name": "python",
   "nbconvert_exporter": "python",
   "pygments_lexer": "ipython3",
   "version": "3.9.18"
  }
 },
 "nbformat": 4,
 "nbformat_minor": 5
}
